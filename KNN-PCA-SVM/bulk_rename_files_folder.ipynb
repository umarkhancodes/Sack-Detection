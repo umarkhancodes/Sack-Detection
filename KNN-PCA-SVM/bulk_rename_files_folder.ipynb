{
 "cells": [
  {
   "cell_type": "code",
   "execution_count": null,
   "metadata": {},
   "outputs": [],
   "source": []
  },
  {
   "cell_type": "code",
   "execution_count": 2,
   "metadata": {},
   "outputs": [],
   "source": [
    "# Pythono3 code to rename multiple  \n",
    "# files in a directory or folder \n",
    "  \n",
    "# importing os module \n",
    "import os \n",
    "i=0\n",
    "# Function to rename multiple files \n",
    "def main(): \n",
    "    i = 999\n",
    "    path = \"sugar/sack_only\"\n",
    "    for filename in os.listdir(path): \n",
    "        dst =\"image\" + str(i) + \".JPG\"\n",
    "        src =os.path.join(path,filename) \n",
    "        dst =os.path.join(path,dst) \n",
    "          \n",
    "        # rename() function will \n",
    "        # rename all the files \n",
    "        os.rename(src, dst) \n",
    "        i += 1\n",
    "  \n",
    "# Driver Code \n",
    "if __name__ == '__main__': \n",
    "      \n",
    "    # Calling main() function \n",
    "    main() \n"
   ]
  },
  {
   "cell_type": "code",
   "execution_count": 2,
   "metadata": {},
   "outputs": [
    {
     "name": "stdout",
     "output_type": "stream",
     "text": [
      "/home/test/Desktop/models/research/object_detection\n"
     ]
    }
   ],
   "source": [
    "!pwd"
   ]
  },
  {
   "cell_type": "code",
   "execution_count": 4,
   "metadata": {
    "collapsed": true
   },
   "outputs": [],
   "source": [
    "path = \"/media/test/local1/Umar/Lite_training/char74-complete/\""
   ]
  },
  {
   "cell_type": "code",
   "execution_count": 21,
   "metadata": {},
   "outputs": [
    {
     "name": "stdout",
     "output_type": "stream",
     "text": [
      "i\n",
      "img045-00834.png\n"
     ]
    }
   ],
   "source": [
    "for directory in os.listdir(path):\n",
    "    print(directory)\n",
    "    for i in os.listdir(path + directory):\n",
    "        print (i)\n",
    "        break\n",
    "    break"
   ]
  },
  {
   "cell_type": "code",
   "execution_count": 31,
   "metadata": {},
   "outputs": [],
   "source": [
    "# Pythono3 code to rename multiple  \n",
    "# files in a directory or folder \n",
    "  \n",
    "# importing os module \n",
    "import os \n",
    "i=0\n",
    "# Function to rename multiple files \n",
    "def main(): \n",
    "    i = 0\n",
    "    path = \"/media/test/local1/Umar/Lite_training/chars74k-lite/\"\n",
    "    dest_path = \"/media/test/local1/Umar/Lite_training/CHAR_DATA/\"\n",
    "    for directory in os.listdir(path):\n",
    "        for filename in os.listdir(path + directory):\n",
    "            dst =str(directory) + '__'+ str(i) + filename[-4:]\n",
    "            src =path + directory + '/' + filename\n",
    "            dst =dest_path + directory.upper() + '/' + dst \n",
    "\n",
    "            # rename() function will \n",
    "            # rename all the files \n",
    "            os.rename(src, dst) \n",
    "            i += 1\n",
    "  \n",
    "# Driver Code \n",
    "if __name__ == '__main__': \n",
    "      \n",
    "    # Calling main() function \n",
    "#     pass\n",
    "    main() \n"
   ]
  },
  {
   "cell_type": "code",
   "execution_count": 33,
   "metadata": {},
   "outputs": [],
   "source": [
    "# Pythono3 code to rename multiple  \n",
    "# files in a directory or folder \n",
    "  \n",
    "# importing os module \n",
    "import os \n",
    "i=0\n",
    "# Function to rename multiple files \n",
    "def main(): \n",
    "    i = 0\n",
    "#     path = \"/media/test/local1/Umar/Lite_training/chars74k-lite/\"\n",
    "    path = \"/media/test/local1/Umar/Lite_training/CHAR_DATA/\"\n",
    "    for directory in os.listdir(path):\n",
    "        for filename in os.listdir(path + directory):\n",
    "            dst =str(directory) + '__'+ str(i) + '.jpg'\n",
    "            src =path + directory + '/' + filename\n",
    "            dst =path + directory + '/' + dst \n",
    "\n",
    "            # rename() function will \n",
    "            # rename all the files\n",
    "            if '__' in filename:\n",
    "                os.rename(src, dst) \n",
    "                i += 1\n",
    "  \n",
    "# Driver Code \n",
    "if __name__ == '__main__': \n",
    "      \n",
    "    # Calling main() function \n",
    "#     pass\n",
    "    main() \n"
   ]
  },
  {
   "cell_type": "code",
   "execution_count": null,
   "metadata": {},
   "outputs": [],
   "source": []
  }
 ],
 "metadata": {
  "kernelspec": {
   "display_name": "Python 3",
   "language": "python",
   "name": "python3"
  },
  "language_info": {
   "codemirror_mode": {
    "name": "ipython",
    "version": 3
   },
   "file_extension": ".py",
   "mimetype": "text/x-python",
   "name": "python",
   "nbconvert_exporter": "python",
   "pygments_lexer": "ipython3",
   "version": "3.7.5"
  }
 },
 "nbformat": 4,
 "nbformat_minor": 2
}
